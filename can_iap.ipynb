{
 "cells": [
  {
   "cell_type": "code",
   "execution_count": null,
   "metadata": {},
   "outputs": [],
   "source": [
    "# 首先在任何终端执行如下命令启动CAN0\n",
    "# sudo ip link set up can0 type can bitrate 1000000"
   ]
  },
  {
   "cell_type": "code",
   "execution_count": null,
   "metadata": {},
   "outputs": [],
   "source": [
    "# 然后执行如下命令创建CAN实例\n",
    "# 一般使用默认参数即可（CAN0 1M 无监听）\n",
    "from can_tools import Caner\n",
    "can_0 = Caner()"
   ]
  },
  {
   "cell_type": "code",
   "execution_count": null,
   "metadata": {},
   "outputs": [],
   "source": [
    "# 然后在单片机上电/重启后3s内发送启动命令进入IAP模式\n",
    "#（若第一次烧录APP，则也可等待3s后自动进入IAP模式）\n",
    "can_0.send_data(0, b'into iap')\n",
    "# 成功发送则在串口助手中会打印“等待升级！！”"
   ]
  },
  {
   "cell_type": "code",
   "execution_count": null,
   "metadata": {},
   "outputs": [],
   "source": [
    "# 发送bin文件\n",
    "can_0.send_file(1, \"./temp/arm_end_interface_board.bin\", 1, 1)\n",
    "# 无串口打印信息，除非程序过大，会打印“缓冲区容量不足!!”"
   ]
  },
  {
   "cell_type": "code",
   "execution_count": null,
   "metadata": {},
   "outputs": [],
   "source": [
    "# 发送升级命令\n",
    "can_0.send_data(2, b'update')\n",
    "# 成功发送则在串口助手中会打印如下内容：\n",
    "# 开始更新固件...\n",
    "# 固件更新完成!"
   ]
  },
  {
   "cell_type": "code",
   "execution_count": null,
   "metadata": {},
   "outputs": [],
   "source": [
    "# 发送跳转命令\n",
    "can_0.send_data(3, b'jump')\n",
    "# 成功发送则在串口助手中会打印“开始执行FLASH用户代码!!”"
   ]
  }
 ],
 "metadata": {
  "kernelspec": {
   "display_name": "Python 3",
   "language": "python",
   "name": "python3"
  },
  "language_info": {
   "codemirror_mode": {
    "name": "ipython",
    "version": 3
   },
   "file_extension": ".py",
   "mimetype": "text/x-python",
   "name": "python",
   "nbconvert_exporter": "python",
   "pygments_lexer": "ipython3",
   "version": "3.8.10"
  }
 },
 "nbformat": 4,
 "nbformat_minor": 2
}
