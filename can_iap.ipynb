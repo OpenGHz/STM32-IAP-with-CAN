{
 "cells": [
  {
   "cell_type": "code",
   "execution_count": null,
   "metadata": {},
   "outputs": [],
   "source": [
    "from can_tools import Caner\n",
    "can_0 = Caner()  # 创建CAN实例（使用默认参数即可）"
   ]
  },
  {
   "cell_type": "code",
   "execution_count": null,
   "metadata": {},
   "outputs": [],
   "source": [
    "# 发送启动命令\n",
    "can_0.send_data(0, b'enter upgrade mode')"
   ]
  },
  {
   "cell_type": "code",
   "execution_count": null,
   "metadata": {},
   "outputs": [],
   "source": [
    "# 发送bin文件\n",
    "can_0.send_file(1, \"test.bin\", 1, 1000)"
   ]
  },
  {
   "cell_type": "code",
   "execution_count": null,
   "metadata": {},
   "outputs": [],
   "source": [
    "# 发送升级命令\n",
    "can_0.send_data(2, b'start upgrade')"
   ]
  },
  {
   "cell_type": "code",
   "execution_count": null,
   "metadata": {},
   "outputs": [],
   "source": [
    "# 发送跳转命令\n",
    "can_0.send_data(3, b'jump to app')"
   ]
  }
 ],
 "metadata": {
  "language_info": {
   "name": "python"
  }
 },
 "nbformat": 4,
 "nbformat_minor": 2
}
