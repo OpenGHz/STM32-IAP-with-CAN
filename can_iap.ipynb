{
 "cells": [
  {
   "cell_type": "code",
   "execution_count": null,
   "metadata": {},
   "outputs": [],
   "source": [
    "# 首先在任何终端执行如下命令启动CAN0\n",
    "# sudo ip link set up can0 type can bitrate 1000000"
   ]
  },
  {
   "cell_type": "code",
   "execution_count": null,
   "metadata": {},
   "outputs": [],
   "source": [
    "# 然后执行如下命令创建CAN实例\n",
    "# 一般使用默认参数即可（CAN0 1M 无监听）\n",
    "from can_tools import Caner\n",
    "can_0 = Caner()"
   ]
  },
  {
   "cell_type": "code",
   "execution_count": null,
   "metadata": {},
   "outputs": [],
   "source": [
    "# 然后在单片机上电/重启后3s内发送启动命令进入IAP模式\n",
    "#（若第一次烧录APP，则也可等待3s后自动进入IAP模式，can dump正常应接收到ID为0x11、0x31、0x12消息）\n",
    "can_0.send_data(0, b'into iap')\n",
    "# 成功发送则can dump正常应接收到ID为0x12消息”"
   ]
  },
  {
   "cell_type": "code",
   "execution_count": null,
   "metadata": {},
   "outputs": [],
   "source": [
    "# 发送bin文件\n",
    "can_0.send_file(1, \"./temp/arm_end_interface_board.bin\", 1, 1)\n",
    "# 正常can dump无返回信息，除非程序过大，会接受到ID为0x30的消息"
   ]
  },
  {
   "cell_type": "code",
   "execution_count": null,
   "metadata": {},
   "outputs": [],
   "source": [
    "# 发送升级命令\n",
    "can_0.send_data(2, b'update')\n",
    "# 成功发送则can dump正常应接收到ID为0x21、0x22消息\n",
    "# 失败则can dump正常应接收到ID为0x31或0x32消息"
   ]
  },
  {
   "cell_type": "code",
   "execution_count": null,
   "metadata": {},
   "outputs": [],
   "source": [
    "# 发送跳转命令\n",
    "can_0.send_data(3, b'jump')\n",
    "# 成功则can dump正常应接收到ID为0x23消息\n",
    "# 失败则can dump正常应接收到ID为0x31消息"
   ]
  }
 ],
 "metadata": {
  "kernelspec": {
   "display_name": "Python 3",
   "language": "python",
   "name": "python3"
  },
  "language_info": {
   "codemirror_mode": {
    "name": "ipython",
    "version": 3
   },
   "file_extension": ".py",
   "mimetype": "text/x-python",
   "name": "python",
   "nbconvert_exporter": "python",
   "pygments_lexer": "ipython3",
   "version": "3.8.10"
  }
 },
 "nbformat": 4,
 "nbformat_minor": 2
}
