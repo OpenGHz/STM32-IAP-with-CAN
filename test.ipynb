{
 "cells": [
  {
   "cell_type": "code",
   "execution_count": 2,
   "metadata": {},
   "outputs": [],
   "source": [
    "# 创建 bytes 对象\n",
    "byte_data = b'hello'\n",
    "\n",
    "# 访问单个字节\n",
    "first_byte = byte_data[0]  # 结果是 104，即 ASCII 编码中的 'h'\n",
    "\n",
    "# 切片\n",
    "slice_of_bytes = byte_data[1:4]  # 结果是 b'ell'\n",
    "\n",
    "# 转换为字符串\n",
    "str_data = byte_data.decode('utf-8')  # 结果是 'hello'\n",
    "\n",
    "byte_list = list(byte_data)"
   ]
  },
  {
   "cell_type": "code",
   "execution_count": 4,
   "metadata": {},
   "outputs": [],
   "source": [
    "byte_data = b'\\x48\\x65\\x6c\\x6c\\x6f'\n",
    "\n",
    "# 访问单个字节\n",
    "first_byte = byte_data[0]  # 结果是 104，即 ASCII 编码中的 'h'\n",
    "\n",
    "# 切片\n",
    "slice_of_bytes = byte_data[1:4]  # 结果是 b'ell'\n",
    "\n",
    "# 转换为字符串\n",
    "str_data = byte_data.decode('utf-8')  # 结果是 'hello'\n",
    "\n",
    "byte_list = list(byte_data)"
   ]
  }
 ],
 "metadata": {
  "kernelspec": {
   "display_name": "Python 3",
   "language": "python",
   "name": "python3"
  },
  "language_info": {
   "codemirror_mode": {
    "name": "ipython",
    "version": 3
   },
   "file_extension": ".py",
   "mimetype": "text/x-python",
   "name": "python",
   "nbconvert_exporter": "python",
   "pygments_lexer": "ipython3",
   "version": "3.8.10"
  }
 },
 "nbformat": 4,
 "nbformat_minor": 2
}
