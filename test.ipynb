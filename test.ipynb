{
 "cells": [
  {
   "cell_type": "markdown",
   "metadata": {},
   "source": [
    "## test bytes"
   ]
  },
  {
   "cell_type": "code",
   "execution_count": null,
   "metadata": {},
   "outputs": [],
   "source": [
    "# 创建 bytes 对象\n",
    "byte_data_big = b'hello'\n",
    "\n",
    "# 访问单个字节\n",
    "first_byte = byte_data_big[0]  # 结果是 104，即 ASCII 编码中的 'h'\n",
    "\n",
    "# 切片\n",
    "slice_of_bytes = byte_data_big[1:4]  # 结果是 b'ell'\n",
    "\n",
    "# 转换为字符串\n",
    "str_data = byte_data_big.decode('utf-8')  # 结果是 'hello'\n",
    "\n",
    "byte_list = list(byte_data_big)"
   ]
  },
  {
   "cell_type": "code",
   "execution_count": null,
   "metadata": {},
   "outputs": [],
   "source": [
    "raw_data = 0x000200000000\n",
    "bytes_len = 6\n",
    "byte_data_big = raw_data.to_bytes(bytes_len, byteorder='big')  # 按原值顺序（因为目前计算机都是大端存储）\n",
    "byte_data_little = raw_data.to_bytes(bytes_len, byteorder='little')\n",
    "\n",
    "# 访问单个字节\n",
    "first_byte = byte_data_big[0]  # 结果是 104，即 ASCII 编码中的 'h'\n",
    "\n",
    "# 切片\n",
    "slice_of_bytes = byte_data_big[1:4]  # 结果是 b'ell'\n",
    "\n",
    "# 转换为字符串\n",
    "str_data = byte_data_big.decode('utf-8')  # 结果是 'hello'\n",
    "\n",
    "byte_list = list(byte_data_big)"
   ]
  },
  {
   "cell_type": "code",
   "execution_count": null,
   "metadata": {},
   "outputs": [],
   "source": [
    "# 创建一个 bytearray 对象\n",
    "byte_array = bytearray(b'hello')\n",
    "\n",
    "# 修改其中的一个字节\n",
    "byte_array[0] = 72  # ASCII 编码中的 'H'\n",
    "\n",
    "# 在末尾追加字节\n",
    "byte_array.append(33)  # ASCII 编码中的 '!'\n",
    "\n",
    "# 转换为不可变的 bytes 对象\n",
    "immutable_bytes = bytes(byte_array)\n",
    "\n",
    "# 打印结果\n",
    "print(immutable_bytes)  # 输出 b'Hello!'"
   ]
  },
  {
   "cell_type": "code",
   "execution_count": null,
   "metadata": {},
   "outputs": [],
   "source": [
    "raw_data_str = '000200000000'\n",
    "data = bytes.fromhex(raw_data_str)\n",
    "print(data)"
   ]
  },
  {
   "cell_type": "markdown",
   "metadata": {},
   "source": [
    "## test bin_tools"
   ]
  },
  {
   "cell_type": "code",
   "execution_count": null,
   "metadata": {},
   "outputs": [],
   "source": [
    "from bin_tools import BinTools\n",
    "BinTools.write_bin_file('test.bin', b'hello world')\n",
    "data = BinTools.read_bin_file('test.bin', to_list=True, as_str=True)"
   ]
  },
  {
   "cell_type": "markdown",
   "metadata": {},
   "source": [
    "## test can send"
   ]
  },
  {
   "cell_type": "code",
   "execution_count": null,
   "metadata": {},
   "outputs": [],
   "source": [
    "from can_tools import Caner\n",
    "# 创建CAN实例（使用默认参数即可）\n",
    "can_0 = Caner()"
   ]
  },
  {
   "cell_type": "code",
   "execution_count": null,
   "metadata": {},
   "outputs": [],
   "source": [
    "# 发送单一数据\n",
    "can_0.send_data(485, b'test')"
   ]
  },
  {
   "cell_type": "code",
   "execution_count": null,
   "metadata": {},
   "outputs": [],
   "source": [
    "# 发送文件数据\n",
    "can_0.send_file(485, \"test.bin\", 1, 1000)"
   ]
  },
  {
   "cell_type": "markdown",
   "metadata": {},
   "source": [
    "## other test"
   ]
  },
  {
   "cell_type": "code",
   "execution_count": null,
   "metadata": {},
   "outputs": [],
   "source": [
    "data = \"00112233445566778899aabbccddeeff\"\n",
    "for i in range(0, len(data), 7):\n",
    "    print(data[i:i+7])"
   ]
  }
 ],
 "metadata": {
  "kernelspec": {
   "display_name": "Python 3",
   "language": "python",
   "name": "python3"
  },
  "language_info": {
   "codemirror_mode": {
    "name": "ipython",
    "version": 3
   },
   "file_extension": ".py",
   "mimetype": "text/x-python",
   "name": "python",
   "nbconvert_exporter": "python",
   "pygments_lexer": "ipython3",
   "version": "3.8.10"
  }
 },
 "nbformat": 4,
 "nbformat_minor": 2
}
